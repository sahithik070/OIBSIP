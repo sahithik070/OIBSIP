{
  "nbformat": 4,
  "nbformat_minor": 0,
  "metadata": {
    "colab": {
      "provenance": [],
      "authorship_tag": "ABX9TyPBAnyglNFJT/UGEl0JQJiU",
      "include_colab_link": true
    },
    "kernelspec": {
      "name": "python3",
      "display_name": "Python 3"
    },
    "language_info": {
      "name": "python"
    }
  },
  "cells": [
    {
      "cell_type": "markdown",
      "metadata": {
        "id": "view-in-github",
        "colab_type": "text"
      },
      "source": [
        "<a href=\"https://colab.research.google.com/github/sahithik070/OIBSIP/blob/main/sales.ipynb\" target=\"_parent\"><img src=\"https://colab.research.google.com/assets/colab-badge.svg\" alt=\"Open In Colab\"/></a>"
      ]
    },
    {
      "cell_type": "code",
      "execution_count": 1,
      "metadata": {
        "id": "ZF7D6jCcIFhk"
      },
      "outputs": [],
      "source": [
        "import numpy as np  \n",
        "import pandas as pd"
      ]
    },
    {
      "cell_type": "code",
      "source": [
        "data=pd.read_csv(\"/content/Advertising.csv\")\n",
        "data.head()\n",
        "\n",
        "data.tail()\n",
        "\n",
        "data.shape\n",
        "\n",
        "data.info\n",
        "\n",
        "data.describe\n",
        "\n",
        "data=data.drop(columns=[\"Unnamed: 0\"])\n",
        "\n",
        "x=data.iloc[:, 0:-1]\n",
        "\n",
        "x\n",
        "\n",
        "y=data.iloc[:,-1]\n",
        "\n",
        "y\n",
        "\n",
        "from sklearn.model_selection import train_test_split\n",
        "x_train,x_test,y_train,y_test=train_test_split(x,y,test_size=0.2,random_state=43)\n",
        "\n",
        "x_train\n",
        "\n",
        "x_test\n",
        "\n",
        "y_train\n",
        "\n",
        "y_test\n",
        "\n",
        "x_train=x_train.astype(int)\n",
        "y_train=y_train.astype(int)\n",
        "x_test=x_test.astype(int)\n",
        "y_test=y_test.astype(int)\n",
        "\n",
        "from sklearn.preprocessing import StandardScaler\n",
        "Sc=StandardScaler()\n",
        "x_train_scaled=Sc.fit_transform(x_train)\n",
        "x_test_scaled=Sc.fit_transform(x_test)\n",
        "\n",
        "from sklearn.linear_model import LinearRegression\n",
        "\n",
        "lr=LinearRegression()\n",
        "\n",
        "lr.fit(x_train_scaled,y_train)\n",
        "\n",
        "y_pred=lr.predict(x_test_scaled)\n",
        "\n",
        "from sklearn.metrics import r2_score\n",
        "\n",
        "r2_score(y_test,y_pred)\n",
        "\n",
        "import matplotlib.pyplot as plt\n",
        "\n",
        "plt.scatter(y_test,y_pred,c='g')\n"
      ],
      "metadata": {
        "colab": {
          "base_uri": "https://localhost:8080/",
          "height": 447
        },
        "id": "QvmwYTtoITwc",
        "outputId": "9ab7df06-3c54-4a61-83c3-f90fcb7c86a4"
      },
      "execution_count": 4,
      "outputs": [
        {
          "output_type": "execute_result",
          "data": {
            "text/plain": [
              "<matplotlib.collections.PathCollection at 0x7fabe0127820>"
            ]
          },
          "metadata": {},
          "execution_count": 4
        },
        {
          "output_type": "display_data",
          "data": {
            "text/plain": [
              "<Figure size 640x480 with 1 Axes>"
            ],
            "image/png": "[encoded data removed]"
          },
          "metadata": {}
        }
      ]
    }
  ]
}